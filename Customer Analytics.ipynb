{
 "cells": [
  {
   "cell_type": "markdown",
   "metadata": {},
   "source": [
    "# Online Retail Data Set \n",
    "\n",
    "** Abstract **: This is a transnational data set which contains all the transactions occurring between 01/12/2010 and 09/12/2011 for a UK-based and registered non-store online retail.\n",
    "\n",
    "### Data Set Characteristics:  \n",
    "\n",
    "1. Multivariate, Sequential, Time-Series\n",
    "2. Number of Instances: 541909\n",
    "3. Area: Business\n",
    "4. Attribute Characteristics: Integer, Real\n",
    "5. Number of Attributes: 8\n",
    "6. Date Donated: 2015-11-06\n",
    "7. Associated Tasks: Classification, Clustering\n",
    "\n",
    "\n",
    "#### Source: \n",
    "Dr Daqing Chen, Director: Public Analytics group. chend '@' lsbu.ac.uk, School of Engineering, London South Bank University, London SE1 0AA, UK.\n",
    "\n",
    "\n",
    "#### Data Set Information:\n",
    "\n",
    "This is a transnational data set which contains all the transactions occurring between 01/12/2010 and 09/12/2011 for a UK-based and registered non-store online retail.The company mainly sells unique all-occasion gifts. Many customers of the company are wholesalers.\n",
    "\n",
    "\n",
    "#### Attribute Information:\n",
    "\n",
    "1. InvoiceNo: Invoice number. Nominal, a 6-digit integral number uniquely assigned to each transaction. If this code starts with letter 'c', it indicates a cancellation. \n",
    "2. StockCode: Product (item) code. Nominal, a 5-digit integral number uniquely assigned to each distinct product. \n",
    "3. Description: Product (item) name. Nominal. \n",
    "4. Quantity: The quantities of each product (item) per transaction. Numeric.\t\n",
    "5. InvoiceDate: Invice Date and time. Numeric, the day and time when each transaction was generated. \n",
    "6. UnitPrice: Unit price. Numeric, Product price per unit in sterling. \n",
    "7. CustomerID: Customer number. Nominal, a 5-digit integral number uniquely assigned to each customer. \n",
    "8. Country: Country name. Nominal, the name of the country where each customer resides."
   ]
  },
  {
   "cell_type": "markdown",
   "metadata": {},
   "source": [
    "## Business Problem :\n",
    "\n",
    "#### Problem statement: The goal is to come up with a solution for the given questions:\n",
    "\n",
    "1. Can we categorize the customers in a particular segment based on their buying patterns? (Customer Segmentation)\n",
    "\n",
    "2. Can we predict which kind of items they will buy in future based on their segmentation? (Prediction)\n",
    "\n",
    "** Input: ** We will be using e-commerce data that contains the list of purchases in 1 year for 4,000 customers.\n",
    "\n",
    "** Output: ** The first goal is that we need to categorize our consumer base into appropriate customer segments. The second goal is we need to predict the purchases for the current year and the next year based on the customers' first purchase.\n",
    "\n",
    "<hr>\n",
    "\n",
    "## ML Problem Mapping.\n",
    "\n",
    "1. Given a dataset of transanctions (Online Retail dataset from UCI Machine Learning repository) get the segments i.e clusters/segments. (Find common patterns and group them)\n",
    "2. Predict what to display to what group of users\n"
   ]
  },
  {
   "cell_type": "markdown",
   "metadata": {},
   "source": [
    "## Importing libraries :"
   ]
  },
  {
   "cell_type": "code",
   "execution_count": 1,
   "metadata": {},
   "outputs": [],
   "source": [
    "import numpy as np\n",
    "import pandas as pd\n",
    "import matplotlib.pyplot as plt\n",
    "import seaborn as sns\n",
    "import scipy\n",
    "%matplotlib inline\n",
    "plt.style.use('fivethirtyeight')"
   ]
  },
  {
   "cell_type": "code",
   "execution_count": null,
   "metadata": {},
   "outputs": [],
   "source": []
  }
 ],
 "metadata": {
  "kernelspec": {
   "display_name": "Python [default]",
   "language": "python",
   "name": "python3"
  },
  "language_info": {
   "codemirror_mode": {
    "name": "ipython",
    "version": 3
   },
   "file_extension": ".py",
   "mimetype": "text/x-python",
   "name": "python",
   "nbconvert_exporter": "python",
   "pygments_lexer": "ipython3",
   "version": "3.6.1"
  }
 },
 "nbformat": 4,
 "nbformat_minor": 2
}
